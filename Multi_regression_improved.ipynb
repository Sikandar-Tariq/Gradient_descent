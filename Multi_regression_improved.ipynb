{
  "nbformat": 4,
  "nbformat_minor": 0,
  "metadata": {
    "colab": {
      "provenance": [],
      "authorship_tag": "ABX9TyPauiOWpvG51vHMf/FJ8JGl",
      "include_colab_link": true
    },
    "kernelspec": {
      "name": "python3",
      "display_name": "Python 3"
    },
    "language_info": {
      "name": "python"
    }
  },
  "cells": [
    {
      "cell_type": "markdown",
      "metadata": {
        "id": "view-in-github",
        "colab_type": "text"
      },
      "source": [
        "<a href=\"https://colab.research.google.com/github/Sikandar-Tariq/Gradient_descent/blob/main/Multi_regression_improved.ipynb\" target=\"_parent\"><img src=\"https://colab.research.google.com/assets/colab-badge.svg\" alt=\"Open In Colab\"/></a>"
      ]
    },
    {
      "cell_type": "code",
      "execution_count": 301,
      "metadata": {
        "colab": {
          "base_uri": "https://localhost:8080/"
        },
        "id": "OuJ1_wbmQySp",
        "outputId": "2bee4ebc-df41-45ea-c0ef-f5b700f82cfe"
      },
      "outputs": [
        {
          "output_type": "execute_result",
          "data": {
            "text/plain": [
              "array([[ 1.,  2., 12.],\n",
              "       [ 2.,  1., 13.],\n",
              "       [ 3.,  4., 22.],\n",
              "       [ 4.,  5., 27.],\n",
              "       [ 5.,  2., 24.],\n",
              "       [ 6.,  3., 29.],\n",
              "       [ 7.,  5., 36.],\n",
              "       [ 8.,  6., 41.],\n",
              "       [ 9.,  7., 46.],\n",
              "       [10.,  8., 51.]])"
            ]
          },
          "metadata": {},
          "execution_count": 301
        }
      ],
      "source": [
        "import numpy as np\n",
        "import pandas as pd\n",
        "import matplotlib.pyplot as plt\n",
        "my_array = np.array([\n",
        "    [1, 2, 12],\n",
        "    [2, 1, 13],\n",
        "    [3, 4, 22],\n",
        "    [4, 5, 27],\n",
        "    [5, 2, 24],\n",
        "    [6, 3, 29],\n",
        "    [7, 5, 36],\n",
        "    [8, 6, 41],\n",
        "    [9, 7, 46],\n",
        "    [10, 8, 51],\n",
        "], dtype=float)\n",
        "m,n=my_array.shape\n",
        "\n",
        "X = my_array[:,0:n-1]\n",
        "Y = my_array[:m,-1]\n",
        "my_array\n"
      ]
    },
    {
      "cell_type": "code",
      "source": [
        "def params():\n",
        "  W = np.ones(n-1)\n",
        "  b = 0\n",
        "  return W, b\n",
        "\n",
        "def forwardprop(W,b,X):\n",
        "  Z = X.dot(W) + b\n",
        "  return Z\n",
        "\n",
        "def backwardprop(Z,X,Y,W):\n",
        "  dZ = Z-Y\n",
        "  dW = 1/m * dZ.dot(X)\n",
        "  db = 1/m * np.sum(dZ)\n",
        "  return dW, db\n",
        "\n",
        "def updateparams(W,b,dW,db,alpha):\n",
        "  W = W - alpha * dW\n",
        "  b = b - alpha * db\n",
        "  return W, b\n",
        "\n",
        "def compute_loss(Z, Y):\n",
        "    m = len(Y)\n",
        "    loss = (1/(2*m)) * np.sum((Z - Y)**2)\n",
        "    return loss\n",
        "\n",
        "def gradient_descent(X,Y,learningrate,steps):\n",
        "  W, b = params()\n",
        "  loss_history = []\n",
        "  for i in range(steps):\n",
        "    Z = forwardprop(W,b,X)\n",
        "    dW, db = backwardprop(Z,X,Y,W)\n",
        "    W, b = updateparams(W,b,dW,db,learningrate)\n",
        "    loss = compute_loss(Z, Y)\n",
        "    loss_history.append(loss)\n",
        "  return W,b,loss_history\n",
        "\n",
        "def make_prediction(X,W,b):\n",
        "  Z = forwardprop(W,b,X)\n",
        "  return Z\n"
      ],
      "metadata": {
        "id": "n7g2rhfORkKu"
      },
      "execution_count": 302,
      "outputs": []
    },
    {
      "cell_type": "code",
      "source": [
        "W,b,loss_history = gradient_descent(X,Y,0.01,4)\n",
        "print(W,b)"
      ],
      "metadata": {
        "colab": {
          "base_uri": "https://localhost:8080/"
        },
        "id": "dtozIoXQR7VS",
        "outputId": "83efc3c4-9ba0-4133-a981-3f3e9d05d098"
      },
      "execution_count": 303,
      "outputs": [
        {
          "output_type": "stream",
          "name": "stdout",
          "text": [
            "[3.11842723 2.62558235] 0.343718312637\n"
          ]
        }
      ]
    },
    {
      "cell_type": "code",
      "source": [
        "test = np.array([3,4])\n",
        "print(make_prediction(test,W,b))"
      ],
      "metadata": {
        "colab": {
          "base_uri": "https://localhost:8080/"
        },
        "id": "aBYlLWUeum3v",
        "outputId": "06bbf331-e7a2-42ef-9b31-7766faaa164b"
      },
      "execution_count": 304,
      "outputs": [
        {
          "output_type": "stream",
          "name": "stdout",
          "text": [
            "20.201329402037\n"
          ]
        }
      ]
    },
    {
      "cell_type": "code",
      "source": [
        "plt.figure(figsize=(8, 5))\n",
        "plt.plot(loss_history, label=\"Loss (MSE)\", linewidth=2)\n",
        "plt.title(\"Loss Curve\")\n",
        "plt.xlabel(\"Iteration\")\n",
        "plt.ylabel(\"Loss\")\n",
        "plt.grid(True)\n",
        "plt.legend()\n",
        "plt.show()"
      ],
      "metadata": {
        "colab": {
          "base_uri": "https://localhost:8080/",
          "height": 487
        },
        "id": "vSLbZQBehNUO",
        "outputId": "331854cb-a0d2-4442-8295-095a15355e8c"
      },
      "execution_count": 305,
      "outputs": [
        {
          "output_type": "display_data",
          "data": {
            "text/plain": [
              "<Figure size 800x500 with 1 Axes>"
            ],
            "image/png": "[encoded data removed]"
          },
          "metadata": {}
        }
      ]
    }
  ]
}