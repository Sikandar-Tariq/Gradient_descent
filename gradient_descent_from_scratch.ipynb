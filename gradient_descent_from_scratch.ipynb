{
  "cells": [
    {
      "cell_type": "code",
      "source": [
        "import sympy\n",
        "import numpy as np\n",
        "\n",
        "m, c = sympy.symbols('m c')\n",
        "m_arb = 1\n",
        "c_arb = 0\n",
        "learningrate = 0.01\n",
        "sum_of_squares = 0\n",
        "my_array = np.array([\n",
        "    [1,15],\n",
        "    [2,20],\n",
        "    [3,25]\n",
        "])\n",
        "n = my_array.shape[0]\n",
        "for i in range (n):\n",
        "  x=my_array[i,0]\n",
        "  y=my_array[i,1]\n",
        "  square = ((y-(m*x+c))**2)\n",
        "  sum_of_squares += square\n",
        "\n",
        "print(sum_of_squares)\n",
        "steps = 0"
      ],
      "metadata": {
        "colab": {
          "base_uri": "https://localhost:8080/"
        },
        "id": "jPveQ5B3WeUY",
        "outputId": "ecdc7e8c-b173-47bd-ffb2-4b9ccc5f12ba"
      },
      "execution_count": 2,
      "outputs": [
        {
          "output_type": "stream",
          "name": "stdout",
          "text": [
            "(-c - 3*m + 25)**2 + (-c - 2*m + 20)**2 + (-c - m + 15)**2\n"
          ]
        }
      ]
    },
    {
      "cell_type": "code",
      "source": [
        "while True:\n",
        "  derivative1=(sympy.diff(sum_of_squares, m)).subs([(m,m_arb),(c,c_arb)])\n",
        "  derivative2=(sympy.diff(sum_of_squares, c)).subs([(m,m_arb),(c,c_arb)])\n",
        "  step_size_m = derivative1 * learningrate\n",
        "  step_size_c = derivative2 * learningrate\n",
        "  p_step_size_m = abs(step_size_m)\n",
        "  p_step_size_c = abs(step_size_c)\n",
        "  steps += 1\n",
        "  if (p_step_size_m < 0.00001 and p_step_size_c < 0.00001 or steps==1000):\n",
        "    print(m_arb)\n",
        "    print(c_arb)\n",
        "    print(steps)\n",
        "    break\n",
        "  m_arb -= step_size_m\n",
        "  c_arb -= step_size_c"
      ],
      "metadata": {
        "colab": {
          "base_uri": "https://localhost:8080/"
        },
        "outputId": "1b1cb634-9d62-4322-c53a-074e3ef02bb1",
        "id": "h96oeZ-JCu5a"
      },
      "execution_count": null,
      "outputs": [
        {
          "output_type": "stream",
          "name": "stdout",
          "text": [
            "5.00219901840011\n",
            "9.99500111429800\n",
            "1000\n"
          ]
        }
      ]
    },
    {
      "cell_type": "code",
      "source": [
        "x1=1\n",
        "x2=2\n",
        "x3=3\n",
        "y1=15\n",
        "y2=20\n",
        "y3=25\n",
        "sum_of_squares=((y1-(m*x1+c))**2)+((y2-(m*x2+c))**2)+((y3-(m*x3+c))**2)\n",
        "print(sum_of_squares)"
      ],
      "metadata": {
        "id": "VHa1QIqLdZNA",
        "colab": {
          "base_uri": "https://localhost:8080/"
        },
        "outputId": "918400e0-3ce5-4cb8-b79a-11f41ac20975"
      },
      "execution_count": null,
      "outputs": [
        {
          "output_type": "stream",
          "name": "stdout",
          "text": [
            "(-c - 3*m + 25)**2 + (-c - 2*m + 20)**2 + (-c - m + 15)**2\n"
          ]
        }
      ]
    },
    {
      "cell_type": "code",
      "source": [
        "theta_symbols = sympy.symbols('theta0:{}'.format(3))\n",
        "theta_vector_sym = sympy.Matrix(theta_symbols)\n",
        "print(theta_vector_sym[0])"
      ],
      "metadata": {
        "colab": {
          "base_uri": "https://localhost:8080/"
        },
        "id": "0b4bfswp1IZq",
        "outputId": "ac981066-30c4-4e43-e6d6-b50b721153e7"
      },
      "execution_count": 5,
      "outputs": [
        {
          "output_type": "stream",
          "name": "stdout",
          "text": [
            "theta0\n"
          ]
        }
      ]
    }
  ],
  "metadata": {
    "colab": {
      "provenance": [],
      "authorship_tag": "ABX9TyPXp4tl8MONNU1Jy9bUOKND"
    },
    "kernelspec": {
      "display_name": "Python 3",
      "name": "python3"
    },
    "language_info": {
      "name": "python"
    }
  },
  "nbformat": 4,
  "nbformat_minor": 0
}